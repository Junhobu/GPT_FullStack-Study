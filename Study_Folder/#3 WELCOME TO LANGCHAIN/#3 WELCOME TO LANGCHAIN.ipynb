{
 "cells": [
  {
   "cell_type": "markdown",
   "metadata": {},
   "source": [
    "- ESC: \"셀 편집 모드\"에서 \"셀 선택 모드\"로 전환\n",
    "- ENTER: 선택된 셀 편집하기(커서 생성)\n",
    "- CTRL+ENTER: 현재 셀 코드 실행하기\n",
    "- SHIFT+ENTER: 셀 실행한 뒤 새로운 셀 생성하기\n",
    "- D D: 선택된 셀 삭제하기\n",
    "- A / B: 위로(A) 혹은 아래로(B) 새로운 셀 생성하기"
   ]
  },
  {
   "cell_type": "code",
   "execution_count": 1,
   "metadata": {},
   "outputs": [],
   "source": [
    "from langchain.chat_models import ChatOpenAI\n",
    "from langchain.prompts import ChatPromptTemplate\n",
    "from langchain.callbacks import StreamingStdOutCallbackHandler\n",
    "\n",
    "chat = ChatOpenAI(temperature=0.1,\n",
    "                  # GPT 응답 과정을 보이게 하는 과정\n",
    "                  # callback : LLM에 일어나는 events를 감지하는 방법\n",
    "                  streaming= True,\n",
    "                  callbacks=[StreamingStdOutCallbackHandler(),],\n",
    "                  \n",
    "                  )"
   ]
  },
  {
   "cell_type": "code",
   "execution_count": 2,
   "metadata": {},
   "outputs": [],
   "source": [
    "chef_prompt = ChatPromptTemplate.from_messages([\n",
    "      (\"system\", \"You are a world-class international chef. You create easy to follow recipies for any type of cuisine with easy to find ingredients.\"),\n",
    "      (\"human\", \"I want to cook {cuisine} food.\")\n",
    "])\n",
    "\n",
    "chef_chain = chef_prompt | chat"
   ]
  },
  {
   "cell_type": "code",
   "execution_count": 3,
   "metadata": {},
   "outputs": [
    {
     "data": {
      "text/plain": [
       "AIMessage(content=\"To make a vegetarian version of Chicken Tikka Masala, you can replace the chicken with a plant-based protein alternative such as tofu or tempeh. Here's how you can modify the recipe:\\n\\nIngredients:\\n- 500g tofu or tempeh, cut into bite-sized pieces\\n- 1 cup plain yogurt (use dairy-free yogurt for a vegan version)\\n- 2 tablespoons lemon juice\\n- 2 tablespoons vegetable oil\\n- 1 large onion, finely chopped\\n- 3 cloves of garlic, minced\\n- 1-inch piece of ginger, grated\\n- 2 teaspoons ground cumin\\n- 2 teaspoons ground coriander\\n- 1 teaspoon turmeric powder\\n- 1 teaspoon paprika\\n- 1 teaspoon garam masala\\n- 1 teaspoon chili powder (adjust to taste)\\n- 1 cup tomato puree\\n- 1 cup coconut cream (or dairy-free heavy cream substitute)\\n- Salt, to taste\\n- Fresh cilantro, chopped (for garnish)\\n\\nInstructions:\\n1. In a bowl, combine the yogurt, lemon juice, 1 teaspoon of cumin, 1 teaspoon of coriander, turmeric powder, paprika, and chili powder. Add the tofu or tempeh pieces and mix well. Marinate for at least 1 hour, or overnight in the refrigerator for better flavor.\\n\\n2. Preheat your oven to 400°F (200°C). Place the marinated tofu or tempeh on a baking sheet lined with parchment paper. Bake for 15-20 minutes or until slightly charred. Set aside.\\n\\n3. In a large pan, heat the vegetable oil over medium heat. Add the chopped onion and cook until golden brown, stirring occasionally.\\n\\n4. Add the minced garlic and grated ginger to the pan. Cook for another 1-2 minutes until fragrant.\\n\\n5. Reduce the heat to low and add the remaining cumin, coriander, garam masala, and salt. Stir well to combine the spices with the onion mixture.\\n\\n6. Pour in the tomato puree and cook for 5 minutes, allowing the flavors to meld together.\\n\\n7. Add the baked tofu or tempeh pieces to the pan and stir to coat them with the sauce. Cook for an additional 5 minutes.\\n\\n8. Finally, pour in the coconut cream (or dairy-free heavy cream substitute) and simmer for another 5 minutes, stirring occasionally. Adjust the seasoning if needed.\\n\\n9. Garnish with fresh cilantro and serve hot with steamed rice or naan bread.\\n\\nEnjoy your vegetarian version of Chicken Tikka Masala!\")"
      ]
     },
     "execution_count": 3,
     "metadata": {},
     "output_type": "execute_result"
    }
   ],
   "source": [
    "veg_chef_prompt = ChatPromptTemplate.from_messages([\n",
    "      (\"system\", \"You are a vegetarian chef specialized on making traditional recipes vegetarian. You find alternative ingredients and explain their preparation. You don't radically modify the recipe. If there is no alternative for a food just say you don't know how to recipe it.\"),\n",
    "      (\"human\", \"{recipe}\")\n",
    "])\n",
    "\n",
    "veg_chain = veg_chef_prompt | chat\n",
    "\n",
    "final_chain = {\"recipe\" : chef_chain} | veg_chain\n",
    "\n",
    "final_chain.invoke({\n",
    "      \"cuisine\" : \"indian\"\n",
    "})"
   ]
  }
 ],
 "metadata": {
  "kernelspec": {
   "display_name": "env",
   "language": "python",
   "name": "python3"
  },
  "language_info": {
   "codemirror_mode": {
    "name": "ipython",
    "version": 3
   },
   "file_extension": ".py",
   "mimetype": "text/x-python",
   "name": "python",
   "nbconvert_exporter": "python",
   "pygments_lexer": "ipython3",
   "version": "3.11.6"
  }
 },
 "nbformat": 4,
 "nbformat_minor": 2
}
