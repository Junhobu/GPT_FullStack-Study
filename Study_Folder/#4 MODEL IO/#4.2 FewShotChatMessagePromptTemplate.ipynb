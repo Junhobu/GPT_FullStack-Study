{
 "cells": [
  {
   "cell_type": "code",
   "execution_count": 1,
   "metadata": {},
   "outputs": [],
   "source": [
    "from langchain.chat_models import ChatOpenAI\n",
    "from langchain.prompts.few_shot import FewShotChatMessagePromptTemplate\n",
    "from langchain.callbacks import StreamingStdOutCallbackHandler\n",
    "from langchain.prompts import ChatPromptTemplate\n",
    "\n",
    "chat = ChatOpenAI(temperature=0.1,\n",
    "                  # GPT 응답 과정을 보이게 하는 과정\n",
    "                  # callback : LLM에 일어나는 events를 감지하는 방법\n",
    "                  streaming= True,\n",
    "                  callbacks=[StreamingStdOutCallbackHandler(),],\n",
    "                  \n",
    "                  )\n",
    "# PromptTemplate를 사용하는 이유 : prompttemplate를 디스크에 저장하고 load하기 위함\n",
    "# FewShot : 더 나은 대답을 위해 모델들에게 예제를 준다\n",
    "# ex) 고객지원 봇을 만들 경우 이미 고객과의 대화에서 입력한 답변을 가져와 더 나은 답변을 하도록 도움을 줄 수 있다."
   ]
  },
  {
   "cell_type": "code",
   "execution_count": 2,
   "metadata": {},
   "outputs": [],
   "source": [
    "examples = [\n",
    "      {\n",
    "            \"country\": \"France\",\n",
    "            \"answer\": \"\"\"\n",
    "            Here is what I know:\n",
    "            Capital: Paris\n",
    "            Language: French\n",
    "            Food: Wine and Cheese\n",
    "            Currency: Euro\n",
    "            \"\"\",\n",
    "      },\n",
    "      {\n",
    "            \"country\": \"Italy\",\n",
    "            \"answer\": \"\"\"\n",
    "            I know this:\n",
    "            Capital: Rome\n",
    "            Language: Italian\n",
    "            Food: Pizza and Pasta\n",
    "            Currency: Euro\n",
    "            \"\"\",\n",
    "      },\n",
    "      {\n",
    "            \"country\": \"Greece\",\n",
    "            \"answer\": \"\"\"\n",
    "            I know this:\n",
    "            Capital: Athens\n",
    "            Language: Greek\n",
    "            Food: Souvlaki and Feta Cheese\n",
    "            Currency: Euro\n",
    "            \"\"\",\n",
    "      },\n",
    "]"
   ]
  },
  {
   "cell_type": "code",
   "execution_count": 5,
   "metadata": {},
   "outputs": [],
   "source": [
    "# ai에게 이런식으로 대답해아 함을 예시를 통해 알려줌\n",
    "example_prompt = ChatPromptTemplate.from_messages(\n",
    "    [\n",
    "        (\"human\", \"What do you know about {country}?\"),\n",
    "        (\"ai\", \"{answer}\"),\n",
    "    ]\n",
    ")\n",
    "\n",
    "# example을 형식화 하기 위함\n",
    "example_prompt = FewShotChatMessagePromptTemplate(\n",
    "    example_prompt=example_prompt,\n",
    "    examples=examples,\n",
    ")\n",
    "\n",
    "final_prompt = ChatPromptTemplate.from_messages(\n",
    "    [\n",
    "        (\"system\", \"You are a geography expert, you give short answers.\"),\n",
    "        example_prompt,\n",
    "        (\"human\", \"What do you know about {country}?\"),\n",
    "    ]\n",
    ")"
   ]
  },
  {
   "cell_type": "code",
   "execution_count": 6,
   "metadata": {},
   "outputs": [
    {
     "name": "stdout",
     "output_type": "stream",
     "text": [
      "\n",
      "            I know this:\n",
      "            Capital: Seoul\n",
      "            Language: Korean\n",
      "            Food: Kimchi and Bibimbap\n",
      "            Currency: South Korean won\n",
      "            "
     ]
    },
    {
     "data": {
      "text/plain": [
       "AIMessageChunk(content='\\n            I know this:\\n            Capital: Seoul\\n            Language: Korean\\n            Food: Kimchi and Bibimbap\\n            Currency: South Korean won\\n            ')"
      ]
     },
     "execution_count": 6,
     "metadata": {},
     "output_type": "execute_result"
    }
   ],
   "source": [
    "chain = final_prompt | chat\n",
    "\n",
    "chain.invoke({\"country\" : \"Korea\"})"
   ]
  }
 ],
 "metadata": {
  "kernelspec": {
   "display_name": "env",
   "language": "python",
   "name": "python3"
  },
  "language_info": {
   "codemirror_mode": {
    "name": "ipython",
    "version": 3
   },
   "file_extension": ".py",
   "mimetype": "text/x-python",
   "name": "python",
   "nbconvert_exporter": "python",
   "pygments_lexer": "ipython3",
   "version": "3.11.6"
  }
 },
 "nbformat": 4,
 "nbformat_minor": 2
}
