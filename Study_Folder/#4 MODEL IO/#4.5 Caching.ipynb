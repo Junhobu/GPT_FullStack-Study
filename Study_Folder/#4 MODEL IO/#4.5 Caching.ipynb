{
 "cells": [
  {
   "cell_type": "code",
   "execution_count": 2,
   "metadata": {},
   "outputs": [],
   "source": [
    "# 비용 절약을 위한 몇가지 유틸리티\n",
    "# 같은 답변을 캐싱하는 방법\n",
    "from langchain.chat_models import ChatOpenAI\n",
    "from langchain.callbacks import StreamingStdOutCallbackHandler\n",
    "from langchain.globals import set_llm_cache, set_debug\n",
    "from langchain.cache import InMemoryCache\n",
    "\n",
    "# 메모리에 답변을 캐싱하는 방법, 하지만 컴퓨터를 재시작 했을 경우 다시 답변을 받아야하는 단점이 있음\n",
    "# set_llm_cache(InMemoryCache())\n",
    "# set_debug(True)\n",
    "\n",
    "# 답변을 데이터베이스에 캐싱하는 방법\n",
    "from langchain.cache import SQLiteCache\n",
    "\n",
    "set_llm_cache(SQLiteCache(\"../cache.db\"))\n",
    "\n",
    "chat = ChatOpenAI(\n",
    "    temperature=0.1,\n",
    "    streaming=True,\n",
    "    callbacks=[\n",
    "        StreamingStdOutCallbackHandler(),\n",
    "    ],\n",
    ")"
   ]
  },
  {
   "cell_type": "code",
   "execution_count": 4,
   "metadata": {},
   "outputs": [
    {
     "name": "stdout",
     "output_type": "stream",
     "text": [
      "To make Italian pasta, you will need the following ingredients:\n",
      "\n",
      "- 2 cups of all-purpose flour\n",
      "- 2 large eggs\n",
      "- 1/2 teaspoon of salt\n",
      "- Water (if needed)\n",
      "\n",
      "Here's a step-by-step guide to making Italian pasta:\n",
      "\n",
      "1. On a clean surface or in a large mixing bowl, pour the flour and create a well in the center.\n",
      "2. Crack the eggs into the well and add the salt.\n",
      "3. Using a fork or your fingers, gradually mix the eggs and salt into the flour, incorporating a little bit at a time.\n",
      "4. Once the dough starts to come together, knead it with your hands until it forms a smooth and elastic ball. If the dough is too dry, you can add a little water, one tablespoon at a time, until it reaches the desired consistency.\n",
      "5. Once the dough is formed, cover it with a clean kitchen towel or plastic wrap and let it rest for about 30 minutes. This will allow the gluten to relax and make the dough easier to work with.\n",
      "6. After resting, divide the dough into smaller portions. You can use a pasta machine or a rolling pin to roll out the dough into thin sheets. If using a pasta machine, start with the widest setting and gradually decrease the thickness until you reach the desired thickness.\n",
      "7. Once the dough is rolled out, you can cut it into your desired pasta shape. For example, you can make fettuccine, spaghetti, or lasagna sheets.\n",
      "8. If making long pasta shapes like spaghetti, hang them on a pasta drying rack or lay them flat on a clean surface to dry for about 15-30 minutes before cooking.\n",
      "9. To cook the pasta, bring a large pot of salted water to a boil. Add the pasta and cook until al dente, which means it should still have a slight bite to it. The cooking time will vary depending on the thickness of the pasta, so it's best to taste it as it cooks.\n",
      "10. Once cooked, drain the pasta and serve it with your favorite sauce or toppings.\n",
      "\n",
      "Enjoy your homemade Italian pasta!"
     ]
    },
    {
     "data": {
      "text/plain": [
       "\"To make Italian pasta, you will need the following ingredients:\\n\\n- 2 cups of all-purpose flour\\n- 2 large eggs\\n- 1/2 teaspoon of salt\\n- Water (if needed)\\n\\nHere's a step-by-step guide to making Italian pasta:\\n\\n1. On a clean surface or in a large mixing bowl, pour the flour and create a well in the center.\\n2. Crack the eggs into the well and add the salt.\\n3. Using a fork or your fingers, gradually mix the eggs and salt into the flour, incorporating a little bit at a time.\\n4. Once the dough starts to come together, knead it with your hands until it forms a smooth and elastic ball. If the dough is too dry, you can add a little water, one tablespoon at a time, until it reaches the desired consistency.\\n5. Once the dough is formed, cover it with a clean kitchen towel or plastic wrap and let it rest for about 30 minutes. This will allow the gluten to relax and make the dough easier to work with.\\n6. After resting, divide the dough into smaller portions. You can use a pasta machine or a rolling pin to roll out the dough into thin sheets. If using a pasta machine, start with the widest setting and gradually decrease the thickness until you reach the desired thickness.\\n7. Once the dough is rolled out, you can cut it into your desired pasta shape. For example, you can make fettuccine, spaghetti, or lasagna sheets.\\n8. If making long pasta shapes like spaghetti, hang them on a pasta drying rack or lay them flat on a clean surface to dry for about 15-30 minutes before cooking.\\n9. To cook the pasta, bring a large pot of salted water to a boil. Add the pasta and cook until al dente, which means it should still have a slight bite to it. The cooking time will vary depending on the thickness of the pasta, so it's best to taste it as it cooks.\\n10. Once cooked, drain the pasta and serve it with your favorite sauce or toppings.\\n\\nEnjoy your homemade Italian pasta!\""
      ]
     },
     "execution_count": 4,
     "metadata": {},
     "output_type": "execute_result"
    }
   ],
   "source": [
    "chat.predict(\"How do you make italian pasta\")"
   ]
  }
 ],
 "metadata": {
  "kernelspec": {
   "display_name": "env",
   "language": "python",
   "name": "python3"
  },
  "language_info": {
   "codemirror_mode": {
    "name": "ipython",
    "version": 3
   },
   "file_extension": ".py",
   "mimetype": "text/x-python",
   "name": "python",
   "nbconvert_exporter": "python",
   "pygments_lexer": "ipython3",
   "version": "3.11.6"
  }
 },
 "nbformat": 4,
 "nbformat_minor": 2
}
