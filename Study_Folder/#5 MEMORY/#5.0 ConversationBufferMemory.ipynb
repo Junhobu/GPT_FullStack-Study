{
 "cells": [
  {
   "cell_type": "markdown",
   "metadata": {},
   "source": [
    "챗봇 시스템에 메모리를 추가하지 않으면 챗봇은 아무것도 기억할 수 없고, 이해할 수 없다.   \n",
    "모델은 자체 메모리가 없으므로 내용을 저장하고 이해시키기 위해선 대화 내용을 같이 보내야한다.\n",
    "\n",
    "Conversation Buffer Memory (대화 버퍼 메모리)\n",
    "----------------------------\n",
    "\n",
    "장점 : 단순한 메모리, 이전 대화 내용 전체를 저장함   \n",
    "단점 : 대화 내용이 길어질수록 메모리도 계속 커지니까 비효율적   \n",
    "\n",
    "언제 사용하면 좋냐?\n",
    "- text completion\n",
    "- 예측을 해야할때\n",
    "- 텍스트를 자동완성하고 싶을때"
   ]
  },
  {
   "cell_type": "code",
   "execution_count": 1,
   "metadata": {},
   "outputs": [],
   "source": [
    "from langchain.memory import ConversationBufferMemory\n",
    "\n",
    "# chat 모델을 사용할 경우 return_messages = True, 아닐경우 False\n",
    "memory = ConversationBufferMemory(return_messages=True)\n",
    "\n",
    "memory.save_context({\"input\":\"Hi\"}, {\"output\":\"How are you?\"})"
   ]
  },
  {
   "cell_type": "code",
   "execution_count": 2,
   "metadata": {},
   "outputs": [
    {
     "data": {
      "text/plain": [
       "{'history': 'Human: Hi\\nAI: How are you?'}"
      ]
     },
     "execution_count": 2,
     "metadata": {},
     "output_type": "execute_result"
    }
   ],
   "source": [
    "memory.load_memory_variables({})"
   ]
  }
 ],
 "metadata": {
  "kernelspec": {
   "display_name": "env",
   "language": "python",
   "name": "python3"
  },
  "language_info": {
   "codemirror_mode": {
    "name": "ipython",
    "version": 3
   },
   "file_extension": ".py",
   "mimetype": "text/x-python",
   "name": "python",
   "nbconvert_exporter": "python",
   "pygments_lexer": "ipython3",
   "version": "3.11.6"
  }
 },
 "nbformat": 4,
 "nbformat_minor": 2
}
