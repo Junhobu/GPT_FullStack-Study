{
 "cells": [
  {
   "cell_type": "markdown",
   "metadata": {},
   "source": [
    "Conversation Buffer Window Memory (대화 버퍼 윈도우 메모리)\n",
    "-----------------------------\n",
    "\n",
    "장점 : 대화의 특정한 부분, 최근 부분만 저장, 저장범위 설정 가능(메모리를 특정 크기로 유지할 수 있음)   \n",
    "ex) 5개의 대화를 저장할 수 있을 경우 6번째 대화에서는 가장 오래된 대화부터 삭제되어 저장됨   \n",
    "\n",
    "단점 : 챗봇이 전체 대화가 아닌 최근 대화에만 집중   \n",
    "\n",
    "언제 사용하면 좋냐?\n"
   ]
  }
 ],
 "metadata": {
  "kernelspec": {
   "display_name": "env",
   "language": "python",
   "name": "python3"
  },
  "language_info": {
   "codemirror_mode": {
    "name": "ipython",
    "version": 3
   },
   "file_extension": ".py",
   "mimetype": "text/x-python",
   "name": "python",
   "nbconvert_exporter": "python",
   "pygments_lexer": "ipython3",
   "version": "3.11.6"
  }
 },
 "nbformat": 4,
 "nbformat_minor": 2
}
